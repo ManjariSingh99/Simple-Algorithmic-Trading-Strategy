{
  "nbformat": 4,
  "nbformat_minor": 0,
  "metadata": {
    "colab": {
      "provenance": [],
      "authorship_tag": "ABX9TyMcPHxe6i5XUrbYm84joX1g"
    },
    "kernelspec": {
      "name": "python3",
      "display_name": "Python 3"
    },
    "language_info": {
      "name": "python"
    }
  },
  "cells": [
    {
      "cell_type": "code",
      "execution_count": null,
      "metadata": {
        "id": "qpuJqrcwafKy"
      },
      "outputs": [],
      "source": [
        "!pip install yfinance"
      ]
    },
    {
      "cell_type": "code",
      "source": [
        "import pandas as pd\n",
        "import requests\n",
        "from datetime import datetime\n",
        "\n",
        "class ScriptData:\n",
        "    def __init__(self, api_key):\n",
        "        self.api_key = api_key\n",
        "\n",
        "    def fetch_intraday_data(self, script):\n",
        "        url = f\"https://www.alphavantage.co/query?function=TIME_SERIES_INTRADAY&symbol={script}&interval=5min&apikey={self.api_key}\"\n",
        "        response = requests.get(url)\n",
        "        data = response.json()[\"Time Series (5min)\"]\n",
        "        self.data = data\n",
        "\n",
        "    def convert_intraday_data(self, script):\n",
        "        data = self.data\n",
        "        df = pd.DataFrame(columns=[\"timestamp\", \"open\", \"high\", \"low\", \"close\", \"volume\"])\n",
        "        for k, v in data.items():\n",
        "            t = datetime.strptime(k, '%Y-%m-%d %H:%M:%S')\n",
        "            row = [t, float(v['1. open']), float(v['2. high']), float(v['3. low']), float(v['4. close']), int(v['5. volume'])]\n",
        "            df.loc[len(df)] = row\n",
        "        self.df = df\n",
        "\n",
        "    def __getitem__(self, key):\n",
        "        return self.df.__getitem__(key)\n",
        "\n",
        "    def __setitem__(self, key, value):\n",
        "        return self.df.__setitem__(key, value)\n",
        "\n",
        "    def __contains__(self, item):\n",
        "        return self.df.__contains__(item)\n"
      ],
      "metadata": {
        "id": "0xcMXBcNI9m5"
      },
      "execution_count": null,
      "outputs": []
    },
    {
      "cell_type": "code",
      "source": [
        "# Initialize the ScriptData class with your API key\n",
        "api_key = \"BWAIAN0GSDN1YJP\"\n",
        "sd = ScriptData(api_key)\n",
        "\n",
        "# Fetch intraday data for a stock\n",
        "sd.fetch_intraday_data(\"AAPL\")\n",
        "\n",
        "# Convert the data to a pandas DataFrame\n",
        "sd.convert_intraday_data(\"AAPL\")\n",
        "\n",
        "# Print the first 5 rows of the DataFrame\n",
        "print(sd.df.head())\n",
        "\n",
        "# Get the 10th row of the DataFrame\n",
        "print(sd[10])\n",
        "\n",
        "# Set the value of the 10th row of the DataFrame\n",
        "sd[10] = [datetime(2022, 2, 16, 15, 30), 140.0, 145.0, 137.0, 142.0, 1000000]\n",
        "\n",
        "# Check if a timestamp is in the DataFrame\n",
        "print(datetime(2022, 2, 16, 15, 30) in sd)\n"
      ],
      "metadata": {
        "id": "8WkOXfVIapo3"
      },
      "execution_count": null,
      "outputs": []
    },
    {
      "cell_type": "code",
      "source": [
        "import pandas as pd\n",
        "\n",
        "def indicator1(df, timeperiod):\n",
        "    ma = df['close'].rolling(window=timeperiod).mean()\n",
        "    output_df = pd.DataFrame({'timestamp': df['timestamp'], 'indicator': ma})\n",
        "    return output_df"
      ],
      "metadata": {
        "id": "_HaB2guQbOha"
      },
      "execution_count": null,
      "outputs": []
    },
    {
      "cell_type": "code",
      "source": [
        "# Sample DataFrame\n",
        "df = pd.DataFrame({\n",
        "    'timestamp': ['2022-02-16 09:30:00', '2022-02-16 09:35:00', '2022-02-16 09:40:00', '2022-02-16 09:45:00', '2022-02-16 09:50:00'],\n",
        "    'open': [140.0, 141.0, 142.0, 143.0, 144.0],\n",
        "    'high': [145.0, 146.0, 147.0, 148.0, 149.0],\n",
        "    'low': [135.0, 136.0, 137.0, 138.0, 139.0],\n",
        "    'close': [142.0, 143.0, 144.0, 145.0, 146.0],\n",
        "    'volume': [1000, 2000, 3000, 4000, 5000]\n",
        "})\n",
        "\n",
        "# Call the indicator1 function with timeperiod=3\n",
        "output_df = indicator1(df, 3)\n",
        "\n",
        "# Print the output DataFrame\n",
        "print(output_df)"
      ],
      "metadata": {
        "id": "BNkmSe87bSEO"
      },
      "execution_count": null,
      "outputs": []
    },
    {
      "cell_type": "code",
      "source": [
        "from ScriptData import ScriptData\n",
        "from indicator1 import indicator1\n",
        "import pandas as pd\n",
        "\n",
        "\n",
        "class Strategy:\n",
        "    \n",
        "    def __init__(self, script_name):\n",
        "        self.script_name = script_name\n",
        "    \n",
        "    def fetch_data(self):\n",
        "        sd = ScriptData()\n",
        "        sd.fetch_intraday_data(self.script_name)\n",
        "        self.close_data = sd.convert_intraday_data(self.script_name)['close']\n",
        "    \n",
        "    def compute_indicator_data(self, timeperiod):\n",
        "        self.indicator_data = indicator1(self.close_data, timeperiod)\n",
        "    \n",
        "    def generate_signals(self):\n",
        "        signals = pd.DataFrame({'timestamp': self.close_data.index, 'signal': 'NO_SIGNAL'})\n",
        "        signals.loc[self.close_data > self.indicator_data, 'signal'] = 'SELL'\n",
        "        signals.loc[self.close_data < self.indicator_data, 'signal'] = 'BUY'\n",
        "        self.signals = signals[signals['signal'].isin(['BUY', 'SELL'])]\n",
        "    \n",
        "    def print_signals(self):\n",
        "        print(self.signals)\n"
      ],
      "metadata": {
        "id": "LF-1PJwebouU"
      },
      "execution_count": null,
      "outputs": []
    },
    {
      "cell_type": "code",
      "source": [
        "strategy = Strategy('AAPL')\n",
        "strategy.fetch_data()\n",
        "strategy.compute_indicator_data(5)\n",
        "strategy.generate_signals()\n",
        "strategy.print_signals()\n"
      ],
      "metadata": {
        "id": "GYZT0TvtbsSS"
      },
      "execution_count": null,
      "outputs": []
    }
  ]
}